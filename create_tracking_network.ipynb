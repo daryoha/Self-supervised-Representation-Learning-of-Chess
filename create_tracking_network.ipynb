{
 "cells": [
  {
   "cell_type": "markdown",
   "id": "e1f5f679",
   "metadata": {},
   "source": [
    "### Создание графа Tracking network"
   ]
  },
  {
   "cell_type": "code",
   "execution_count": 1,
   "id": "5500e41b",
   "metadata": {},
   "outputs": [],
   "source": [
    "import numpy as np\n",
    "import re\n",
    "from time import sleep\n",
    "import chess \n",
    "import chess.pgn\n",
    "import networkx as nx\n",
    "import matplotlib.pyplot as plt"
   ]
  },
  {
   "cell_type": "code",
   "execution_count": null,
   "id": "3471f7f0",
   "metadata": {},
   "outputs": [],
   "source": [
    "def algebraic_to_coordinate(algebraic):\n",
    "    letter, number = algebraic[0], algebraic[1]\n",
    "    x = ord(letter) - ord('a') + 1\n",
    "    y = int(number)\n",
    "    return (x, y)\n",
    "\n",
    "\n",
    "def coordinate_to_algebraic(coordinate):\n",
    "    x, y = coordinate\n",
    "    letter = chr(ord('a') + x - 1)\n",
    "    number = str(y)\n",
    "    return letter + number\n",
    "\n",
    "\n",
    "def intermediate_cells(start, end):\n",
    "    start_coord = algebraic_to_coordinate(start)\n",
    "    end_coord = algebraic_to_coordinate(end)\n",
    "    \n",
    "    x1, y1 = start_coord\n",
    "    x2, y2 = end_coord\n",
    "    \n",
    "    intermediate = []\n",
    "    \n",
    "    x_step = 1 if x1 < x2 else -1 if x1 > x2 else 0\n",
    "    y_step = 1 if y1 < y2 else -1 if y1 > y2 else 0\n",
    "\n",
    "    if x_step == 0 or y_step == 0:\n",
    "        steps = max(abs(x2 - x1), abs(y2 - y1))\n",
    "    else:\n",
    "        steps = abs(x2 - x1)\n",
    "\n",
    "    x, y = x1, y1\n",
    "\n",
    "    for _ in range(1, steps):\n",
    "        x += x_step\n",
    "        y += y_step\n",
    "        intermediate.append(coordinate_to_algebraic((x, y)))\n",
    "    \n",
    "    return intermediate"
   ]
  },
  {
   "cell_type": "code",
   "execution_count": null,
   "id": "8dff7d0b",
   "metadata": {},
   "outputs": [],
   "source": [
    "def create_tracking_network(input_file_path):\n",
    "    with open(input_file_path) as pgn_file:\n",
    "        while True:\n",
    "            game = chess.pgn.read_game(pgn_file)\n",
    "            board = chess.Board()\n",
    "            G = nx.DiGraph()\n",
    "            plt.figure(figsize=(10, 10))\n",
    "            for number, move in enumerate(game.mainline_moves()): \n",
    "                board.push(move)\n",
    "                array_of_cells = intermediate_cells(move.uci()[:2], move.uci()[2:])\n",
    "                for i in range(len(array_of_cells) - 1):\n",
    "                    G.add_edge(array_of_cells[i], array_of_cells[i + 1], color=\"black\")\n",
    "            pos = nx.spring_layout(G, k = 2)\n",
    "            edges = G.edges(data=True)\n",
    "            colors = [data['color'] for u, v, data in edges]\n",
    "            nx.draw_networkx(G, pos, with_labels=True, edge_color=colors, node_size=1000, font_size=8, font_color='black', font_weight='bold')"
   ]
  }
 ],
 "metadata": {
  "kernelspec": {
   "display_name": "Python 3 (ipykernel)",
   "language": "python",
   "name": "python3"
  },
  "language_info": {
   "codemirror_mode": {
    "name": "ipython",
    "version": 3
   },
   "file_extension": ".py",
   "mimetype": "text/x-python",
   "name": "python",
   "nbconvert_exporter": "python",
   "pygments_lexer": "ipython3",
   "version": "3.10.9"
  }
 },
 "nbformat": 4,
 "nbformat_minor": 5
}
