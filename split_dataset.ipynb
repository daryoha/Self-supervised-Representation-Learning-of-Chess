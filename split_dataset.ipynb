{
 "cells": [
  {
   "cell_type": "markdown",
   "id": "f7a504e7",
   "metadata": {},
   "source": [
    "# Создание выборок"
   ]
  },
  {
   "cell_type": "code",
   "execution_count": 35,
   "id": "c9ea452c",
   "metadata": {},
   "outputs": [],
   "source": [
    "import numpy as np\n",
    "import re\n",
    "from time import sleep\n",
    "import chess \n",
    "import chess.pgn\n",
    "import networkx as nx\n",
    "import matplotlib.pyplot as plt"
   ]
  },
  {
   "cell_type": "markdown",
   "id": "ee1ee1ff",
   "metadata": {},
   "source": [
    "## Разбить датасет на поддатасеты"
   ]
  },
  {
   "cell_type": "code",
   "execution_count": 1,
   "id": "81c5d5a7",
   "metadata": {
    "ExecuteTime": {
     "end_time": "2024-04-14T19:36:59.734822Z",
     "start_time": "2024-04-14T19:36:08.185573Z"
    }
   },
   "outputs": [
    {
     "name": "stderr",
     "output_type": "stream",
     "text": [
      "101307801it [00:51, 1967845.14it/s]"
     ]
    },
    {
     "name": "stdout",
     "output_type": "stream",
     "text": [
      "Файл database.pgn был разделен на 10 частей.\n"
     ]
    },
    {
     "name": "stderr",
     "output_type": "stream",
     "text": [
      "\n"
     ]
    }
   ],
   "source": [
    "from tqdm import tqdm\n",
    "\n",
    "def split_large_pgn(file_path, num_files=10):\n",
    "    # Открываем файлы для записи \n",
    "    output_files = [open(f\"{file_path[:-4]}_part{i+1}.pgn\", 'w', encoding='utf-8') for i in range(num_files)]\n",
    "    \n",
    "    # Текущий индекс файла, в который мы пишем\n",
    "    current_file_index = 0\n",
    "    with open(file_path, 'r', encoding='utf-8') as f:\n",
    "        # Проходим по строкам файла\n",
    "        game_content = []\n",
    "        for line in tqdm(f):\n",
    "            game_content.append(line)\n",
    "            # Проверяем, начинается ли новая игра\n",
    "            if line.strip().startswith('[Event'):\n",
    "                if game_content:\n",
    "                    # Если началась новая партия, пишем старую в текущий файл\n",
    "                    output_files[current_file_index].write(''.join(game_content))\n",
    "                    # Очищаем собранные строки\n",
    "                    game_content = []\n",
    "                    # Выбираем следующий файл для записи\n",
    "                    current_file_index = (current_file_index + 1) % num_files\n",
    "        # Записываем последнюю партию, если она осталась\n",
    "        if game_content:\n",
    "            output_files[current_file_index].write(''.join(game_content))\n",
    "\n",
    "    # Закрываем все файлы\n",
    "    for file in output_files:\n",
    "        file.close()\n",
    "\n",
    "    print(f\"Файл {file_path} был разделен на {num_files} частей.\")\n",
    "\n",
    "# Используйте функцию со своим файлом\n",
    "split_large_pgn('database.pgn', num_files=10)"
   ]
  }
 ],
 "metadata": {
  "kernelspec": {
   "display_name": "Python 3 (ipykernel)",
   "language": "python",
   "name": "python3"
  },
  "language_info": {
   "codemirror_mode": {
    "name": "ipython",
    "version": 3
   },
   "file_extension": ".py",
   "mimetype": "text/x-python",
   "name": "python",
   "nbconvert_exporter": "python",
   "pygments_lexer": "ipython3",
   "version": "3.11.5"
  },
  "toc": {
   "base_numbering": 1,
   "nav_menu": {},
   "number_sections": true,
   "sideBar": true,
   "skip_h1_title": false,
   "title_cell": "Table of Contents",
   "title_sidebar": "Contents",
   "toc_cell": false,
   "toc_position": {},
   "toc_section_display": true,
   "toc_window_display": false
  }
 },
 "nbformat": 4,
 "nbformat_minor": 5
}
