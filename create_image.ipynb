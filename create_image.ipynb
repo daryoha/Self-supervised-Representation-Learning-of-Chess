{
 "cells": [
  {
   "cell_type": "markdown",
   "id": "f691a553",
   "metadata": {},
   "source": [
    "## Создание многоканльного изображения"
   ]
  },
  {
   "cell_type": "code",
   "execution_count": null,
   "id": "5ec385f9",
   "metadata": {},
   "outputs": [],
   "source": [
    "import numpy as np\n",
    "import re\n",
    "from time import sleep\n",
    "import chess \n",
    "import chess.pgn\n",
    "import networkx as nx\n",
    "import matplotlib.pyplot as plt"
   ]
  },
  {
   "cell_type": "code",
   "execution_count": null,
   "id": "f03d5359",
   "metadata": {},
   "outputs": [],
   "source": [
    "def create_image(input_file_path):\n",
    "    with open(input_file_path) as pgn_file:\n",
    "        game = chess.pgn.read_game(pgn_file)\n",
    "        board = chess.Board()\n",
    "        image = []\n",
    "        for number, move in enumerate(game.mainline_moves()): \n",
    "                board.push(move)\n",
    "                board_array = np.array(board_to_array(board))\n",
    "                image.append(board_array)"
   ]
  }
 ],
 "metadata": {
  "kernelspec": {
   "display_name": "Python 3 (ipykernel)",
   "language": "python",
   "name": "python3"
  },
  "language_info": {
   "codemirror_mode": {
    "name": "ipython",
    "version": 3
   },
   "file_extension": ".py",
   "mimetype": "text/x-python",
   "name": "python",
   "nbconvert_exporter": "python",
   "pygments_lexer": "ipython3",
   "version": "3.10.9"
  }
 },
 "nbformat": 4,
 "nbformat_minor": 5
}
